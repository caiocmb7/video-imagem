{
  "nbformat": 4,
  "nbformat_minor": 0,
  "metadata": {
    "colab": {
      "name": "script:video-imagem.ipynb",
      "provenance": []
    },
    "kernelspec": {
      "name": "python3",
      "display_name": "Python 3"
    },
    "language_info": {
      "name": "python"
    }
  },
  "cells": [
    {
      "cell_type": "code",
      "metadata": {
        "id": "dwM4fPaqfzas"
      },
      "source": [
        "import cv2\n",
        "import logging\n",
        "import os\n",
        "import random\n",
        "import string"
      ],
      "execution_count": null,
      "outputs": []
    },
    {
      "cell_type": "code",
      "metadata": {
        "id": "jPYcWeb3kzPu"
      },
      "source": [
        "video_path = '/content/beehive1.mp4'"
      ],
      "execution_count": null,
      "outputs": []
    },
    {
      "cell_type": "code",
      "metadata": {
        "id": "hgMXK5ftf8Ps"
      },
      "source": [
        "def rand_string(length):\n",
        "  rand_str = ''.join(random.choice(string.ascii_lowercase + string.ascii_uppercase + string.digits) for i in range(length))\n",
        "  return rand_str"
      ],
      "execution_count": null,
      "outputs": []
    },
    {
      "cell_type": "code",
      "metadata": {
        "id": "6XTMoxzugSjF"
      },
      "source": [
        "def length_of_video(video_path):\n",
        "  cap = cv2.VideoCapture(video_path)\n",
        "  length = int(cap.get(cv2.CAP_PROP_FRAME_COUNT))\n",
        "  return length"
      ],
      "execution_count": null,
      "outputs": []
    },
    {
      "cell_type": "code",
      "metadata": {
        "id": "qAju2OuJgia_"
      },
      "source": [
        "def extracting_frames(video_path, save_path, skip_frames = 30):\n",
        "  print('######## extracting phase #########')\n",
        "  _, file_name = os.path.split(video_path)\n",
        "\n",
        "  file_name_without_ext = os.path.splitext(file_name)[0]\n",
        "\n",
        "  length = length_of_video(video_path)\n",
        "  if length == 0:\n",
        "    print('Length 0, exiting')\n",
        "    return 0\n",
        "  cap = cv2.VideoCapture(video_path)\n",
        "  count = 0\n",
        "  random_string = rand_string(5)\n",
        "\n",
        "  ret,frame = cap.read()\n",
        "  test_file_path = os.path.join(\n",
        "                  save_path, \n",
        "                  file_name_without_ext[:6]+ \\\n",
        "                  '{}_{}.jpg'.format(random_string, count))\n",
        "  \n",
        "  cv2.imwrite(test_file_path, frame)\n",
        "  if os.path.isfile(test_file_path):\n",
        "    print('saving test frame was successful,' + 'continuing extracting phase')\n",
        "\n",
        "    count = 1\n",
        "    while ret:\n",
        "      ret,frame = cap.read()\n",
        "      if ret and count % skip_frames == 0:\n",
        "        cv2.imwrite(os.path.join(\n",
        "                  save_path,\n",
        "                  file_name_without_ext[:6]+\n",
        "                  '{}_{}.jpg'.format(random_string, count)), frame)\n",
        "        count += 1\n",
        "        print(count)\n",
        "      else:\n",
        "        count += 1\n",
        "  else:\n",
        "    print('problem with saving test frame cv2 encoding, cannot save file')\n",
        "    return 0\n",
        "  \n",
        "  cap.release()\n",
        "  print('####### finished extraction #######')"
      ],
      "execution_count": null,
      "outputs": []
    },
    {
      "cell_type": "code",
      "metadata": {
        "colab": {
          "base_uri": "https://localhost:8080/"
        },
        "id": "PZ6MK2xMixuQ",
        "outputId": "964b5c49-b31c-41ba-a931-9cf0e841686d"
      },
      "source": [
        "if __name__ == \"__main__\":\n",
        "  public_movies = [\"beehive1.mp4\"]\n",
        "  save_path = '/content/video'\n",
        "  for movie in public_movies:\n",
        "    print(movie)\n",
        "    extracting_frames(movie, save_path, skip_frames = 30)"
      ],
      "execution_count": null,
      "outputs": [
        {
          "output_type": "stream",
          "text": [
            "beehive1.mp4\n",
            "######## extracting phase #########\n",
            "saving test frame was successful,continuing extracting phase\n",
            "31\n",
            "61\n",
            "91\n",
            "121\n",
            "151\n",
            "181\n",
            "211\n",
            "241\n",
            "271\n",
            "301\n",
            "331\n",
            "361\n",
            "391\n",
            "421\n",
            "451\n",
            "481\n",
            "511\n",
            "541\n",
            "571\n",
            "601\n",
            "631\n",
            "661\n",
            "691\n",
            "721\n",
            "751\n",
            "781\n",
            "811\n",
            "841\n",
            "871\n",
            "901\n",
            "931\n",
            "961\n",
            "991\n",
            "1021\n",
            "1051\n",
            "1081\n",
            "1111\n",
            "1141\n",
            "1171\n",
            "1201\n",
            "1231\n",
            "1261\n",
            "1291\n",
            "1321\n",
            "1351\n",
            "1381\n",
            "1411\n",
            "1441\n",
            "1471\n",
            "1501\n",
            "1531\n",
            "1561\n",
            "1591\n",
            "1621\n",
            "1651\n",
            "1681\n",
            "1711\n",
            "####### finished extraction #######\n"
          ],
          "name": "stdout"
        }
      ]
    }
  ]
}